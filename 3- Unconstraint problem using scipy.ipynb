{
 "cells": [
  {
   "cell_type": "markdown",
   "metadata": {},
   "source": [
    "### Unconstrained minimization of multivariate scalar functions (minimize)"
   ]
  },
  {
   "cell_type": "markdown",
   "metadata": {},
   "source": [
    "### Import library"
   ]
  },
  {
   "cell_type": "code",
   "execution_count": 1,
   "metadata": {},
   "outputs": [],
   "source": [
    "import numpy as np\n",
    "import pandas as pd\n",
    "from scipy.optimize import minimize"
   ]
  },
  {
   "cell_type": "markdown",
   "metadata": {},
   "source": [
    "### Define functions we will use"
   ]
  },
  {
   "cell_type": "code",
   "execution_count": 2,
   "metadata": {},
   "outputs": [],
   "source": [
    "def rosen(x):\n",
    "    \"\"\"The Rosenbrock function\"\"\"\n",
    "    return sum(100.0*(x[1:]-x[:-1]**2.0)**2.0 + (1-x[:-1])**2.0)\n",
    "\n",
    "def rosen_der(x):\n",
    "    \"\"\"The Rosenbrock Derivative function\"\"\"\n",
    "    xm = x[1:-1]\n",
    "    xm_m1 = x[:-2]\n",
    "    xm_p1 = x[2:]\n",
    "    der = np.zeros_like(x)\n",
    "    der[1:-1] = 200*(xm-xm_m1**2) - 400*(xm_p1 - xm**2)*xm - 2*(1-xm)\n",
    "    der[0] = -400*x[0]*(x[1]-x[0]**2) - 2*(1-x[0])\n",
    "    der[-1] = 200*(x[-1]-x[-2]**2)\n",
    "    return der\n",
    "\n",
    "def rosen_hess(x):\n",
    "    \"\"\"The Rosenbrock Hessian function\"\"\"\n",
    "    x = np.asarray(x)\n",
    "    H = np.diag(-400*x[:-1],1) - np.diag(400*x[:-1],-1)\n",
    "    diagonal = np.zeros_like(x)\n",
    "    diagonal[0] = 1200*x[0]**2-400*x[1]+2\n",
    "    diagonal[-1] = 200\n",
    "    diagonal[1:-1] = 202 + 1200*x[1:-1]**2 - 400*x[2:]\n",
    "    H = H + np.diag(diagonal)\n",
    "    return H"
   ]
  },
  {
   "cell_type": "markdown",
   "metadata": {},
   "source": [
    "### Nelder-Mead Simplex algorithm (method='Nelder-Mead')\n",
    "\n",
    "The Nelder–Mead method (also downhill simplex method, amoeba method, or polytope method) is a commonly applied numerical method used to find the minimum or maximum of an objective function in a multidimensional space.\n",
    "\n",
    "The Nelder-Mead is an algorithm for optimizing nonlinear which was published 1 by John Nelder and Roger Mead  (in) in 1965 . It is a heuristic numerical method which seeks to minimize a continuous function in a space with several dimensions.\n",
    "\n",
    "Also called downhill simplex method , the algorithm exploits the concept of simplex which is a polytope of N +1 vertices in an N- dimensional space . Starting initially from such a simplex, it undergoes simple transformations during the iterations  : it deforms, moves and gradually reduces until its vertices approach a point where the function is locally minimal."
   ]
  },
  {
   "cell_type": "code",
   "execution_count": 3,
   "metadata": {},
   "outputs": [
    {
     "name": "stdout",
     "output_type": "stream",
     "text": [
      "Optimization terminated successfully.\n",
      "         Current function value: 0.000000\n",
      "         Iterations: 339\n",
      "         Function evaluations: 571\n",
      "[1. 1. 1. 1. 1.]\n"
     ]
    }
   ],
   "source": [
    "x0 = np.array([1.3, 0.7, 0.8, 1.9, 1.2])\n",
    "res = minimize(rosen, x0, method='nelder-mead',\n",
    "               options={'xatol': 1e-8, 'disp': True})\n",
    "print(res.x)"
   ]
  },
  {
   "cell_type": "markdown",
   "metadata": {},
   "source": [
    "### Broyden-Fletcher-Goldfarb-Shanno algorithm (method='BFGS')\n",
    "\n",
    "In mathematics , the Broyden-Fletcher-Goldfarb-Shanno ( BFGS ) method is a method for solving a nonlinear optimization problem without constraints.\n",
    "\n",
    "The BFGS method is a solution often used when one wants an algorithm with directions of descent .\n",
    "\n",
    "The main idea of ​​this method is to avoid explicitly building the Hessian matrix and instead to build an approximation of the inverse of the second derivative of the function to be minimized, by analyzing the different successive gradients . This approximation of the derivatives of the function leads to a quasi-Newton method (a variant of Newton's method ) so as to find the minimum in the parameter space.\n",
    "\n",
    "The Hessian matrix does not need to be recomputed at each iteration of the algorithm. However, the method assumes that the function can be locally approximated by a quadratic limited expansion around the optimum.\n",
    "\n",
    "In order to converge more quickly to the solution, this routine uses the gradient of the objective function. If the gradient is not given by the user, then it is estimated using first-differences. The Broyden-Fletcher-Goldfarb-Shanno (BFGS) method typically requires fewer function calls than the simplex algorithm even when the gradient must be estimated."
   ]
  },
  {
   "cell_type": "code",
   "execution_count": 4,
   "metadata": {},
   "outputs": [
    {
     "name": "stdout",
     "output_type": "stream",
     "text": [
      "Optimization terminated successfully.\n",
      "         Current function value: 0.000000\n",
      "         Iterations: 25\n",
      "         Function evaluations: 30\n",
      "         Gradient evaluations: 30\n",
      "[1.00000004 1.0000001  1.00000021 1.00000044 1.00000092]\n"
     ]
    }
   ],
   "source": [
    "res = minimize(rosen, x0, method='BFGS', jac=rosen_der,\n",
    "               options={'disp': True})\n",
    "print(res.x)"
   ]
  },
  {
   "cell_type": "markdown",
   "metadata": {},
   "source": [
    "### Newton-Conjugate-Gradient algorithm (method='Newton-CG')\n",
    "\n",
    "In numerical analysis , the conjugate gradient method is an algorithm for solving systems of linear equations whose matrix is symmetrically positive definite . This method, imagined simultaneously in 1950 by Cornelius Lanczos , Eduard Stiefel and Magnus Hestenes 1 , is an iterative method which converges in a finite number of iterations (at most equal to the dimension of the linear system). However, its great practical interest from the point of view of computation time comes from the fact that a clever initialization (known as “preconditioning”) makes it possible to lead in only a few passages to an estimate very close to the exact solution, this is why in practice one limits oneself to a number of iterations much lower than the number of unknowns.\n",
    "\n",
    "The biconjugate gradient method provides a generalization for unsymmetrical matrices.\n",
    "\n",
    "Newton-Conjugate Gradient algorithm is a modified Newton’s method and uses a conjugate gradient algorithm to (approximately) invert the local Hessian [NW]. Newton’s method is based on fitting the function locally to a quadratic form."
   ]
  },
  {
   "cell_type": "code",
   "execution_count": 5,
   "metadata": {},
   "outputs": [
    {
     "name": "stdout",
     "output_type": "stream",
     "text": [
      "Optimization terminated successfully.\n",
      "         Current function value: 0.000000\n",
      "         Iterations: 24\n",
      "         Function evaluations: 33\n",
      "         Gradient evaluations: 56\n",
      "         Hessian evaluations: 24\n",
      "[1.         1.         1.         0.99999999 0.99999999]\n"
     ]
    }
   ],
   "source": [
    "res = minimize(rosen, x0, method='Newton-CG',\n",
    "               jac=rosen_der, hess=rosen_hess,\n",
    "               options={'xtol': 1e-8, 'disp': True})\n",
    "print(res.x)"
   ]
  },
  {
   "cell_type": "code",
   "execution_count": 6,
   "metadata": {},
   "outputs": [
    {
     "name": "stdout",
     "output_type": "stream",
     "text": [
      "Optimization terminated successfully.\n",
      "         Current function value: 0.000000\n",
      "         Iterations: 24\n",
      "         Function evaluations: 33\n",
      "         Gradient evaluations: 56\n",
      "         Hessian evaluations: 66\n",
      "[1.         1.         1.         0.99999999 0.99999999]\n"
     ]
    }
   ],
   "source": [
    "def rosen_hess_p(x, p):\n",
    "    x = np.asarray(x)\n",
    "    Hp = np.zeros_like(x)\n",
    "    Hp[0] = (1200*x[0]**2 - 400*x[1] + 2)*p[0] - 400*x[0]*p[1]\n",
    "    Hp[1:-1] = -400*x[:-2]*p[:-2]+(202+1200*x[1:-1]**2-400*x[2:])*p[1:-1] \\\n",
    "               -400*x[1:-1]*p[2:]\n",
    "    Hp[-1] = -400*x[-2]*p[-2] + 200*p[-1]\n",
    "    return Hp\n",
    "\n",
    "res = minimize(rosen, x0, method='Newton-CG',\n",
    "               jac=rosen_der, hessp=rosen_hess_p,\n",
    "               options={'xtol': 1e-8, 'disp': True})\n",
    "print(res.x)"
   ]
  },
  {
   "cell_type": "markdown",
   "metadata": {},
   "source": [
    "### Trust-Region Newton-Conjugate-Gradient Algorithm (method='trust-ncg')\n",
    "\n",
    "The Newton-CG method is a line search method: it finds a direction of search minimizing a quadratic approximation of the function and then uses a line search algorithm to find the (nearly) optimal step size in that direction. An alternative approach is to, first, fix the step size limit (Hessian) and then find the optimal step p inside the given trust-radius by solving the following quadratic subproblem"
   ]
  },
  {
   "cell_type": "code",
   "execution_count": 7,
   "metadata": {},
   "outputs": [
    {
     "name": "stdout",
     "output_type": "stream",
     "text": [
      "Optimization terminated successfully.\n",
      "         Current function value: 0.000000\n",
      "         Iterations: 20\n",
      "         Function evaluations: 21\n",
      "         Gradient evaluations: 20\n",
      "         Hessian evaluations: 19\n",
      "[1. 1. 1. 1. 1.]\n"
     ]
    }
   ],
   "source": [
    "res = minimize(rosen, x0, method='trust-ncg',\n",
    "               jac=rosen_der, hess=rosen_hess,\n",
    "               options={'gtol': 1e-8, 'disp': True})\n",
    "print(res.x)"
   ]
  },
  {
   "cell_type": "code",
   "execution_count": 8,
   "metadata": {},
   "outputs": [
    {
     "name": "stdout",
     "output_type": "stream",
     "text": [
      "Optimization terminated successfully.\n",
      "         Current function value: 0.000000\n",
      "         Iterations: 20\n",
      "         Function evaluations: 21\n",
      "         Gradient evaluations: 20\n",
      "         Hessian evaluations: 0\n",
      "[1. 1. 1. 1. 1.]\n"
     ]
    }
   ],
   "source": [
    "res = minimize(rosen, x0, method='trust-ncg',\n",
    "               jac=rosen_der, hessp=rosen_hess_p,\n",
    "               options={'gtol': 1e-8, 'disp': True})\n",
    "print(res.x)"
   ]
  },
  {
   "cell_type": "markdown",
   "metadata": {},
   "source": [
    "### Trust-Region Truncated Generalized Lanczos / Conjugate Gradient Algorithm (method='trust-krylov')\n",
    "\n",
    "Similar to the trust-ncg method, the trust-krylov method is a method suitable for large-scale problems as it uses the hessian only as linear operator by means of matrix-vector products. It solves the quadratic subproblem more accurately than the trust-ncg method."
   ]
  },
  {
   "cell_type": "code",
   "execution_count": 9,
   "metadata": {},
   "outputs": [
    {
     "name": "stdout",
     "output_type": "stream",
     "text": [
      " iter inewton type    objective     ?g??_M?¹      leftmost         ?             ?             ?             ?             ?       \n",
      "     0     0  cg_i -6.273083e+02  4.029038e+02  0.000000e+00  0.000000e+00  2.246107e+03  4.021147e+03  2.486853e-04  3.217671e-02\n",
      "\n",
      " iter inewton type    objective     ?g??_M?¹      leftmost         ?             ?             ?             ?             ?       \n",
      "     0     0  cg_i -9.528585e+01  1.478412e+02  0.000000e+00  0.000000e+00  6.001708e+02  1.890129e+03  5.290645e-04  6.067939e-02\n",
      "\n",
      " iter inewton type    objective     ?g??_M?¹      leftmost         ?             ?             ?             ?             ?       \n",
      "     0     0  cg_i -8.662599e+00  5.824611e+01  0.000000e+00  0.000000e+00  1.285783e+02  9.542387e+02  1.047956e-03  2.052100e-01\n",
      "\n",
      " iter inewton type    objective     ?g??_M?¹      leftmost         ?             ?             ?             ?             ?       \n",
      "     0     0  cg_i -1.798598e+00  3.481545e+01  0.000000e+00  0.000000e+00  5.168333e+01  7.425689e+02  1.346676e-03  4.537776e-01\n",
      "\n",
      "     1     0  cg_i -2.721261e+00  1.426076e+01  0.000000e+00  0.000000e+00  5.002168e+02  9.938183e+02  1.522401e-03  1.677804e-01\n",
      "\n",
      " iter inewton type    objective     ?g??_M?¹      leftmost         ?             ?             ?             ?             ?       \n",
      "     0     0  cg_i -7.242386e-02  4.575385e+00  0.000000e+00  0.000000e+00  1.400669e+01  1.354439e+03  7.383128e-04  1.067048e-01\n",
      "\n",
      " iter inewton type    objective     ?g??_M?¹      leftmost         ?             ?             ?             ?             ?       \n",
      "     0     0  cg_i -8.331939e-03  2.017934e+00  0.000000e+00  0.000000e+00  4.550681e+00  1.242730e+03  8.046802e-04  1.966351e-01\n",
      "\n",
      " iter inewton type    objective     ?g??_M?¹      leftmost         ?             ?             ?             ?             ?       \n",
      "     0     0  cg_i -1.639774e-03  1.039910e+00  0.000000e+00  0.000000e+00  2.017620e+00  1.241266e+03  8.056290e-04  2.656515e-01\n",
      "\n",
      "     1     0  cg_i -2.362748e-03  4.063620e-01  0.000000e+00  0.000000e+00  6.397659e+02  1.077635e+03  1.337094e-03  1.526986e-01\n",
      "\n",
      " iter inewton type    objective     ?g??_M?¹      leftmost         ?             ?             ?             ?             ?       \n",
      "     0     0  cg_i -1.218928e-04  2.280362e-01  0.000000e+00  0.000000e+00  4.066296e-01  6.782503e+02  1.474382e-03  3.144920e-01\n",
      "\n",
      "     1     0  cg_i -1.746236e-04  3.200387e-01  0.000000e+00  0.000000e+00  3.803600e+02  7.063791e+02  2.028090e-03  1.969687e+00\n",
      "\n",
      "     2     0  cg_i -3.519759e-04  3.984883e-01  0.000000e+00  0.000000e+00  6.920085e+02  1.259964e+03  3.463074e-03  1.550338e+00\n",
      "\n",
      "     3     0  cg_i -5.758296e-03  3.569591e+00  0.000000e+00  0.000000e+00  3.595435e+02  4.623626e+02  6.809270e-02  8.024274e+01\n",
      "\n",
      " TR Solving trust region problem, radius 2.500000e-01; starting on first irreducible block\n",
      " TR Coldstart. Seeking suitable initial ??, starting with 0\n",
      " TR Starting Newton iteration for ?? with initial choice 0.000000e+00\n",
      " TR  iter        ?            d?       ?h?(?)?-radius\n",
      " TR      1  2.943145e-01  2.943145e-01  3.059076e-07\n",
      " TR      2  2.943152e-01  7.617834e-07 -1.912359e-14\n",
      "\n",
      " iter inewton type    objective     ????|h?|      leftmost         ?             ?             ?       \n",
      "     4     2   hot -2.875301e-02  0.000000e+00  0.000000e+00  2.943152e-01  1.315535e+02  1.382362e+03\n",
      "\n",
      "Early exit as hotstart with early termination on\n",
      "\n",
      " iter inewton type    objective     ?g??_M?¹      leftmost         ?             ?             ?             ?             ?       \n",
      "     0     0  cg_i -7.518233e-03  1.522235e+00  0.000000e+00  0.000000e+00  4.090478e+00  1.112762e+03  8.986647e-04  1.384891e-01\n",
      "\n",
      " iter inewton type    objective     ?g??_M?¹      leftmost         ?             ?             ?             ?             ?       \n",
      "     0     0  cg_i -1.096841e-03  8.409536e-01  0.000000e+00  0.000000e+00  1.518407e+00  1.051001e+03  9.514742e-04  3.067379e-01\n",
      "\n",
      "     1     0  cg_i -1.570721e-03  3.392978e-01  0.000000e+00  0.000000e+00  5.820853e+02  1.068564e+03  1.340154e-03  1.627863e-01\n",
      "\n",
      " iter inewton type    objective     ?g??_M?¹      leftmost         ?             ?             ?             ?             ?       \n",
      "     0     0  cg_i -6.479100e-05  1.641071e-01  0.000000e+00  0.000000e+00  3.391135e-01  8.874534e+02  1.126820e-03  2.341879e-01\n",
      "\n",
      "     1     0  cg_i -8.150449e-05  1.044376e-01  0.000000e+00  0.000000e+00  4.294650e+02  1.013502e+03  1.241202e-03  4.050039e-01\n",
      "\n",
      " iter inewton type    objective     ?g??_M?¹      leftmost         ?             ?             ?             ?             ?       \n",
      "     0     0  cg_i -6.864955e-06  9.214155e-02  0.000000e+00  0.000000e+00  1.044215e-01  7.941673e+02  1.259181e-03  7.786304e-01\n",
      "\n",
      "     1     0  cg_i -1.991674e-05  1.301343e-01  0.000000e+00  0.000000e+00  7.007735e+02  9.436083e+02  3.074601e-03  1.994676e+00\n",
      "\n",
      "     2     0  cg_i -1.195321e-04  3.179941e-01  0.000000e+00  0.000000e+00  4.593539e+02  7.337610e+02  1.176448e-02  5.971103e+00\n",
      "\n",
      "     3     0  cg_i -4.188868e-04  7.535566e-01  0.000000e+00  0.000000e+00  2.077086e+02  6.764504e+02  5.920769e-03  5.615569e+00\n",
      "\n",
      " iter inewton type    objective     ?g??_M?¹      leftmost         ?             ?             ?             ?             ?       \n",
      "     0     0  cg_i -8.816451e-04  5.184366e-01  0.000000e+00  0.000000e+00  1.324450e+00  9.948272e+02  1.005200e-03  1.532216e-01\n",
      "\n",
      " iter inewton type    objective     ?g??_M?¹      leftmost         ?             ?             ?             ?             ?       \n",
      "     0     0  cg_i -1.332921e-04  2.868284e-01  0.000000e+00  0.000000e+00  5.178932e-01  1.006112e+03  9.939256e-04  3.067355e-01\n",
      "\n",
      "     1     0  cg_i -1.931659e-04  1.227712e-01  0.000000e+00  0.000000e+00  5.572219e+02  9.956424e+02  1.455536e-03  1.832097e-01\n",
      "\n",
      " iter inewton type    objective     ?g??_M?¹      leftmost         ?             ?             ?             ?             ?       \n",
      "     0     0  cg_i -7.494787e-06  5.036955e-02  0.000000e+00  0.000000e+00  1.227312e-01  1.004896e+03  9.951282e-04  1.684325e-01\n",
      "\n",
      "     1     0  cg_i -9.038951e-06  2.464230e-02  0.000000e+00  0.000000e+00  4.124145e+02  9.907665e+02  1.217272e-03  2.393460e-01\n",
      "\n",
      "     2     0  cg_i -9.419876e-06  1.237374e-02  0.000000e+00  0.000000e+00  4.019071e+02  9.936897e+02  1.254603e-03  2.521387e-01\n",
      "\n",
      " iter inewton type    objective     ?g??_M?¹      leftmost         ?             ?             ?             ?             ?       \n",
      "     0     0  cg_i -8.123315e-08  6.017427e-03  0.000000e+00  0.000000e+00  1.237352e-02  9.423732e+02  1.061151e-03  2.365023e-01\n",
      "\n",
      "     1     0  cg_i -1.141577e-07  5.764425e-03  0.000000e+00  0.000000e+00  4.582903e+02  7.727586e+02  1.818562e-03  9.176781e-01\n",
      "\n",
      "     2     0  cg_i -1.714596e-07  9.206608e-03  0.000000e+00  0.000000e+00  5.267653e+02  7.945608e+02  3.448951e-03  2.550864e+00\n",
      "\n",
      "     3     0  cg_i -3.626456e-07  1.409674e-02  0.000000e+00  0.000000e+00  4.630807e+02  9.612789e+02  4.511145e-03  2.344434e+00\n",
      "\n",
      " iter inewton type    objective     ?g??_M?¹      leftmost         ?             ?             ?             ?             ?       \n",
      "     0     0  cg_i -7.032046e-09  1.474521e-03  0.000000e+00  0.000000e+00  3.727647e-03  9.880023e+02  1.012143e-03  1.564705e-01\n",
      "\n",
      "     1     0  cg_i -8.304899e-09  6.906989e-04  0.000000e+00  0.000000e+00  3.908177e+02  1.008664e+03  1.170863e-03  2.194196e-01\n",
      "\n",
      "     2     0  cg_i -8.600911e-09  3.514945e-04  0.000000e+00  0.000000e+00  4.000658e+02  9.932200e+02  1.240972e-03  2.589760e-01\n",
      "\n",
      "     3     0  cg_i -8.677805e-09  2.907239e-05  0.000000e+00  0.000000e+00  4.100794e+02  1.012058e+03  1.244756e-03  6.841074e-03\n",
      "\n",
      " iter inewton type    objective     ?g??_M?¹      leftmost         ?             ?             ?             ?             ?       \n",
      "     0     0  cg_i -1.065816e-17  7.061929e-08  0.000000e+00  0.000000e+00  1.369755e-07  8.801844e+02  1.136126e-03  2.658036e-01\n",
      "\n",
      "     1     0  cg_i -1.488030e-17  6.089564e-08  0.000000e+00  0.000000e+00  4.537891e+02  8.245442e+02  1.693228e-03  7.435764e-01\n",
      "\n",
      "     2     0  cg_i -2.014909e-17  8.298704e-08  0.000000e+00  0.000000e+00  5.092692e+02  7.910571e+02  2.841638e-03  1.857155e+00\n",
      "\n",
      "     3     0  cg_i -3.327619e-17  1.245258e-07  0.000000e+00  0.000000e+00  4.795737e+02  9.158651e+02  3.812224e-03  2.251637e+00\n",
      "\n",
      "Optimization terminated successfully.\n",
      "         Current function value: 0.000000\n",
      "         Iterations: 19\n",
      "         Function evaluations: 20\n",
      "         Gradient evaluations: 20\n",
      "         Hessian evaluations: 18\n",
      "[1. 1. 1. 1. 1.]\n"
     ]
    }
   ],
   "source": [
    "res = minimize(rosen, x0, method='trust-krylov',\n",
    "               jac=rosen_der, hess=rosen_hess,\n",
    "               options={'gtol': 1e-8, 'disp': True})\n",
    "print(res.x)"
   ]
  },
  {
   "cell_type": "code",
   "execution_count": 10,
   "metadata": {},
   "outputs": [
    {
     "name": "stdout",
     "output_type": "stream",
     "text": [
      " iter inewton type    objective     ?g??_M?¹      leftmost         ?             ?             ?             ?             ?       \n",
      "     0     0  cg_i -6.273083e+02  4.029038e+02  0.000000e+00  0.000000e+00  2.246107e+03  4.021147e+03  2.486853e-04  3.217671e-02\n",
      "\n",
      " iter inewton type    objective     ?g??_M?¹      leftmost         ?             ?             ?             ?             ?       \n",
      "     0     0  cg_i -9.528585e+01  1.478412e+02  0.000000e+00  0.000000e+00  6.001708e+02  1.890129e+03  5.290645e-04  6.067939e-02\n",
      "\n",
      " iter inewton type    objective     ?g??_M?¹      leftmost         ?             ?             ?             ?             ?       \n",
      "     0     0  cg_i -8.662599e+00  5.824611e+01  0.000000e+00  0.000000e+00  1.285783e+02  9.542387e+02  1.047956e-03  2.052100e-01\n",
      "\n",
      " iter inewton type    objective     ?g??_M?¹      leftmost         ?             ?             ?             ?             ?       \n",
      "     0     0  cg_i -1.798598e+00  3.481545e+01  0.000000e+00  0.000000e+00  5.168333e+01  7.425689e+02  1.346676e-03  4.537776e-01\n",
      "\n",
      "     1     0  cg_i -2.721261e+00  1.426076e+01  0.000000e+00  0.000000e+00  5.002168e+02  9.938183e+02  1.522401e-03  1.677804e-01\n",
      "\n",
      " iter inewton type    objective     ?g??_M?¹      leftmost         ?             ?             ?             ?             ?       \n",
      "     0     0  cg_i -7.242386e-02  4.575385e+00  0.000000e+00  0.000000e+00  1.400669e+01  1.354439e+03  7.383128e-04  1.067048e-01\n",
      "\n",
      " iter inewton type    objective     ?g??_M?¹      leftmost         ?             ?             ?             ?             ?       \n",
      "     0     0  cg_i -8.331939e-03  2.017934e+00  0.000000e+00  0.000000e+00  4.550681e+00  1.242730e+03  8.046802e-04  1.966351e-01\n",
      "\n",
      " iter inewton type    objective     ?g??_M?¹      leftmost         ?             ?             ?             ?             ?       \n",
      "     0     0  cg_i -1.639774e-03  1.039910e+00  0.000000e+00  0.000000e+00  2.017620e+00  1.241266e+03  8.056290e-04  2.656515e-01\n",
      "\n",
      "     1     0  cg_i -2.362748e-03  4.063620e-01  0.000000e+00  0.000000e+00  6.397659e+02  1.077635e+03  1.337094e-03  1.526986e-01\n",
      "\n",
      " iter inewton type    objective     ?g??_M?¹      leftmost         ?             ?             ?             ?             ?       \n",
      "     0     0  cg_i -1.218928e-04  2.280362e-01  0.000000e+00  0.000000e+00  4.066296e-01  6.782503e+02  1.474382e-03  3.144920e-01\n",
      "\n",
      "     1     0  cg_i -1.746236e-04  3.200387e-01  0.000000e+00  0.000000e+00  3.803600e+02  7.063791e+02  2.028090e-03  1.969687e+00\n",
      "\n",
      "     2     0  cg_i -3.519759e-04  3.984883e-01  0.000000e+00  0.000000e+00  6.920085e+02  1.259964e+03  3.463074e-03  1.550338e+00\n",
      "\n",
      "     3     0  cg_i -5.758296e-03  3.569591e+00  0.000000e+00  0.000000e+00  3.595435e+02  4.623626e+02  6.809270e-02  8.024274e+01\n",
      "\n",
      " TR Solving trust region problem, radius 2.500000e-01; starting on first irreducible block\n",
      " TR Coldstart. Seeking suitable initial ??, starting with 0\n",
      " TR Starting Newton iteration for ?? with initial choice 0.000000e+00\n",
      " TR  iter        ?            d?       ?h?(?)?-radius\n",
      " TR      1  2.943145e-01  2.943145e-01  3.059076e-07\n",
      " TR      2  2.943152e-01  7.617834e-07  2.481348e-14\n",
      " TR Newton breakdown, d? = 6.179161e-14 ? = 2.943152e-01\n",
      "\n",
      " iter inewton type    objective     ????|h?|      leftmost         ?             ?             ?       \n",
      "     4     3   hot -2.875301e-02  0.000000e+00  0.000000e+00  2.943152e-01  1.315535e+02  1.382362e+03\n",
      "\n",
      "Early exit as hotstart with early termination on\n",
      "\n",
      " iter inewton type    objective     ?g??_M?¹      leftmost         ?             ?             ?             ?             ?       \n",
      "     0     0  cg_i -7.518233e-03  1.522235e+00  0.000000e+00  0.000000e+00  4.090478e+00  1.112762e+03  8.986647e-04  1.384891e-01\n",
      "\n",
      " iter inewton type    objective     ?g??_M?¹      leftmost         ?             ?             ?             ?             ?       \n",
      "     0     0  cg_i -1.096841e-03  8.409536e-01  0.000000e+00  0.000000e+00  1.518407e+00  1.051001e+03  9.514742e-04  3.067379e-01\n",
      "\n",
      "     1     0  cg_i -1.570721e-03  3.392978e-01  0.000000e+00  0.000000e+00  5.820853e+02  1.068564e+03  1.340154e-03  1.627863e-01\n",
      "\n",
      " iter inewton type    objective     ?g??_M?¹      leftmost         ?             ?             ?             ?             ?       \n",
      "     0     0  cg_i -6.479100e-05  1.641071e-01  0.000000e+00  0.000000e+00  3.391135e-01  8.874534e+02  1.126820e-03  2.341879e-01\n",
      "\n",
      "     1     0  cg_i -8.150449e-05  1.044376e-01  0.000000e+00  0.000000e+00  4.294650e+02  1.013502e+03  1.241202e-03  4.050039e-01\n",
      "\n",
      " iter inewton type    objective     ?g??_M?¹      leftmost         ?             ?             ?             ?             ?       \n",
      "     0     0  cg_i -6.864955e-06  9.214155e-02  0.000000e+00  0.000000e+00  1.044215e-01  7.941673e+02  1.259181e-03  7.786304e-01\n",
      "\n",
      "     1     0  cg_i -1.991674e-05  1.301343e-01  0.000000e+00  0.000000e+00  7.007735e+02  9.436083e+02  3.074601e-03  1.994676e+00\n",
      "\n",
      "     2     0  cg_i -1.195321e-04  3.179941e-01  0.000000e+00  0.000000e+00  4.593539e+02  7.337610e+02  1.176448e-02  5.971103e+00\n",
      "\n",
      "     3     0  cg_i -4.188868e-04  7.535566e-01  0.000000e+00  0.000000e+00  2.077086e+02  6.764504e+02  5.920769e-03  5.615569e+00\n",
      "\n",
      " iter inewton type    objective     ?g??_M?¹      leftmost         ?             ?             ?             ?             ?       \n",
      "     0     0  cg_i -8.816451e-04  5.184366e-01  0.000000e+00  0.000000e+00  1.324450e+00  9.948272e+02  1.005200e-03  1.532216e-01\n",
      "\n",
      " iter inewton type    objective     ?g??_M?¹      leftmost         ?             ?             ?             ?             ?       \n",
      "     0     0  cg_i -1.332921e-04  2.868284e-01  0.000000e+00  0.000000e+00  5.178932e-01  1.006112e+03  9.939256e-04  3.067355e-01\n",
      "\n",
      "     1     0  cg_i -1.931659e-04  1.227712e-01  0.000000e+00  0.000000e+00  5.572219e+02  9.956424e+02  1.455536e-03  1.832097e-01\n",
      "\n",
      " iter inewton type    objective     ?g??_M?¹      leftmost         ?             ?             ?             ?             ?       \n",
      "     0     0  cg_i -7.494787e-06  5.036955e-02  0.000000e+00  0.000000e+00  1.227312e-01  1.004896e+03  9.951282e-04  1.684325e-01\n",
      "\n",
      "     1     0  cg_i -9.038951e-06  2.464230e-02  0.000000e+00  0.000000e+00  4.124145e+02  9.907665e+02  1.217272e-03  2.393460e-01\n",
      "\n",
      "     2     0  cg_i -9.419876e-06  1.237374e-02  0.000000e+00  0.000000e+00  4.019071e+02  9.936897e+02  1.254603e-03  2.521387e-01\n",
      "\n",
      " iter inewton type    objective     ?g??_M?¹      leftmost         ?             ?             ?             ?             ?       \n",
      "     0     0  cg_i -8.123315e-08  6.017427e-03  0.000000e+00  0.000000e+00  1.237352e-02  9.423732e+02  1.061151e-03  2.365023e-01\n",
      "\n",
      "     1     0  cg_i -1.141577e-07  5.764425e-03  0.000000e+00  0.000000e+00  4.582903e+02  7.727586e+02  1.818562e-03  9.176781e-01\n",
      "\n",
      "     2     0  cg_i -1.714596e-07  9.206608e-03  0.000000e+00  0.000000e+00  5.267653e+02  7.945608e+02  3.448951e-03  2.550864e+00\n",
      "\n",
      "     3     0  cg_i -3.626456e-07  1.409674e-02  0.000000e+00  0.000000e+00  4.630807e+02  9.612789e+02  4.511145e-03  2.344434e+00\n",
      "\n",
      " iter inewton type    objective     ?g??_M?¹      leftmost         ?             ?             ?             ?             ?       \n",
      "     0     0  cg_i -7.032046e-09  1.474521e-03  0.000000e+00  0.000000e+00  3.727647e-03  9.880023e+02  1.012143e-03  1.564705e-01\n",
      "\n",
      "     1     0  cg_i -8.304899e-09  6.906989e-04  0.000000e+00  0.000000e+00  3.908177e+02  1.008664e+03  1.170863e-03  2.194196e-01\n",
      "\n",
      "     2     0  cg_i -8.600911e-09  3.514945e-04  0.000000e+00  0.000000e+00  4.000658e+02  9.932200e+02  1.240972e-03  2.589760e-01\n",
      "\n",
      "     3     0  cg_i -8.677805e-09  2.907239e-05  0.000000e+00  0.000000e+00  4.100794e+02  1.012058e+03  1.244756e-03  6.841074e-03\n",
      "\n",
      " iter inewton type    objective     ?g??_M?¹      leftmost         ?             ?             ?             ?             ?       \n",
      "     0     0  cg_i -1.065816e-17  7.061929e-08  0.000000e+00  0.000000e+00  1.369755e-07  8.801844e+02  1.136126e-03  2.658036e-01\n",
      "\n",
      "     1     0  cg_i -1.488030e-17  6.089564e-08  0.000000e+00  0.000000e+00  4.537891e+02  8.245442e+02  1.693228e-03  7.435764e-01\n",
      "\n",
      "     2     0  cg_i -2.014909e-17  8.298704e-08  0.000000e+00  0.000000e+00  5.092692e+02  7.910571e+02  2.841638e-03  1.857155e+00\n",
      "\n",
      "     3     0  cg_i -3.327619e-17  1.245258e-07  0.000000e+00  0.000000e+00  4.795737e+02  9.158651e+02  3.812224e-03  2.251637e+00\n",
      "\n",
      "Optimization terminated successfully.\n",
      "         Current function value: 0.000000\n",
      "         Iterations: 19\n",
      "         Function evaluations: 20\n",
      "         Gradient evaluations: 20\n",
      "         Hessian evaluations: 0\n",
      "[1. 1. 1. 1. 1.]\n"
     ]
    }
   ],
   "source": [
    "res = minimize(rosen, x0, method='trust-krylov',\n",
    "               jac=rosen_der, hessp=rosen_hess_p,\n",
    "               options={'gtol': 1e-8, 'disp': True})\n",
    "print(res.x)"
   ]
  },
  {
   "cell_type": "markdown",
   "metadata": {},
   "source": [
    "### Trust-Region Nearly Exact Algorithm (method='trust-exact')\n",
    "\n",
    "All methods Newton-CG, trust-ncg and trust-krylov are suitable for dealing with large-scale problems (problems with thousands of variables). That is because the conjugate gradient algorithm approximately solve the trust-region subproblem (or invert the Hessian) by iterations without the explicit Hessian factorization. Since only the product of the Hessian with an arbitrary vector is needed, the algorithm is specially suited for dealing with sparse Hessians, allowing low storage requirements and significant time savings for those sparse problems.\n",
    "\n",
    "For medium-size problems, for which the storage and factorization cost of the Hessian are not critical, it is possible to obtain a solution within fewer iteration by solving the trust-region subproblems almost exactly. To achieve that, a certain nonlinear equations is solved iteratively for each quadratic subproblem [CGT]. This solution requires usually 3 or 4 Cholesky factorizations of the Hessian matrix. As the result, the method converges in fewer number of iterations and takes fewer evaluations of the objective function than the other implemented trust-region methods. The Hessian product option is not supported by this algorithm. An example using the Rosenbrock function follows"
   ]
  },
  {
   "cell_type": "code",
   "execution_count": 11,
   "metadata": {},
   "outputs": [
    {
     "name": "stdout",
     "output_type": "stream",
     "text": [
      "Optimization terminated successfully.\n",
      "         Current function value: 0.000000\n",
      "         Iterations: 13\n",
      "         Function evaluations: 14\n",
      "         Gradient evaluations: 13\n",
      "         Hessian evaluations: 14\n",
      "[1. 1. 1. 1. 1.]\n"
     ]
    }
   ],
   "source": [
    "res = minimize(rosen, x0, method='trust-exact',\n",
    "               jac=rosen_der, hess=rosen_hess,\n",
    "               options={'gtol': 1e-8, 'disp': True})\n",
    "\n",
    "print(res.x)"
   ]
  },
  {
   "cell_type": "code",
   "execution_count": null,
   "metadata": {},
   "outputs": [],
   "source": []
  }
 ],
 "metadata": {
  "kernelspec": {
   "display_name": "Python 3",
   "language": "python",
   "name": "python3"
  },
  "language_info": {
   "codemirror_mode": {
    "name": "ipython",
    "version": 3
   },
   "file_extension": ".py",
   "mimetype": "text/x-python",
   "name": "python",
   "nbconvert_exporter": "python",
   "pygments_lexer": "ipython3",
   "version": "3.7.0"
  }
 },
 "nbformat": 4,
 "nbformat_minor": 2
}
