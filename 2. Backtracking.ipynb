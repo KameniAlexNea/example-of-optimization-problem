{
 "cells": [
  {
   "cell_type": "markdown",
   "metadata": {},
   "source": [
    "### Backtracking alogorithm \n",
    "\n",
    "An example of backtracking algorithm using a quadratic function"
   ]
  },
  {
   "cell_type": "markdown",
   "metadata": {},
   "source": [
    "### Import library"
   ]
  },
  {
   "cell_type": "code",
   "execution_count": 1,
   "metadata": {
    "scrolled": true
   },
   "outputs": [],
   "source": [
    "import numpy as np\n",
    "import pandas as pd"
   ]
  },
  {
   "cell_type": "markdown",
   "metadata": {},
   "source": [
    "### Define SPD matrix and b of the quadratic fonction\n",
    "\n",
    "q = $ \\frac{1}{2} * x^T * A * x - b * x $"
   ]
  },
  {
   "cell_type": "code",
   "execution_count": 2,
   "metadata": {},
   "outputs": [],
   "source": [
    "matrixSize = 7\n",
    "A = np.random.rand(matrixSize, matrixSize)\n",
    "A = np.dot(A, A.transpose())\n",
    "b = np.random.rand(matrixSize, 1)"
   ]
  },
  {
   "cell_type": "code",
   "execution_count": 3,
   "metadata": {},
   "outputs": [
    {
     "name": "stdout",
     "output_type": "stream",
     "text": [
      "[[1.195 1.255 1.457 1.174 1.086 1.091 0.888]\n",
      " [1.255 2.257 2.012 1.889 0.975 1.575 1.574]\n",
      " [1.457 2.012 3.086 2.554 0.923 2.14  1.983]\n",
      " [1.174 1.889 2.554 2.25  0.803 1.894 1.941]\n",
      " [1.086 0.975 0.923 0.803 1.371 0.715 0.791]\n",
      " [1.091 1.575 2.14  1.894 0.715 2.264 1.803]\n",
      " [0.888 1.574 1.983 1.941 0.791 1.803 2.371]]\n"
     ]
    }
   ],
   "source": [
    "np.set_printoptions(precision=3)\n",
    "print(A)"
   ]
  },
  {
   "cell_type": "code",
   "execution_count": 4,
   "metadata": {},
   "outputs": [
    {
     "name": "stdout",
     "output_type": "stream",
     "text": [
      "[[0.69 ]\n",
      " [0.364]\n",
      " [0.04 ]\n",
      " [0.505]\n",
      " [0.23 ]\n",
      " [0.945]\n",
      " [0.936]]\n"
     ]
    }
   ],
   "source": [
    "np.set_printoptions(precision=3)\n",
    "print(b)"
   ]
  },
  {
   "cell_type": "markdown",
   "metadata": {},
   "source": [
    "### Define quadratic function, gradient and hessian"
   ]
  },
  {
   "cell_type": "code",
   "execution_count": 5,
   "metadata": {},
   "outputs": [],
   "source": [
    "def funct_quad(x):\n",
    "    return 0.5 * np.dot(np.dot(x.T, A), x) - np.dot(b.T, x)\n",
    "\n",
    "def gradient(x):\n",
    "    return np.dot(A, x) - b\n",
    "\n",
    "def hessian(x):\n",
    "    return A"
   ]
  },
  {
   "cell_type": "markdown",
   "metadata": {},
   "source": [
    "### Define rules function (A) and (W)"
   ]
  },
  {
   "cell_type": "code",
   "execution_count": 6,
   "metadata": {},
   "outputs": [],
   "source": [
    "def check_armijo_rule(xk, ak, pk, c1=1e-4):\n",
    "    return funct_quad(xk + ak * pk) <= funct_quad(xk) + ak * c1 * np.dot(gradient(xk).T, pk)\n",
    "\n",
    "def check_wolfe_rule(xk, ak, pk, c2=0.9):\n",
    "    return np.dot(gradient(xk + ak * pk).T, pk) >= c2 * np.dot(gradient(xk).T, pk)"
   ]
  },
  {
   "cell_type": "markdown",
   "metadata": {},
   "source": [
    "### Define hessian inverse"
   ]
  },
  {
   "cell_type": "code",
   "execution_count": 7,
   "metadata": {},
   "outputs": [],
   "source": [
    "def inverse_hessian():\n",
    "    return np.linalg.inv(hessian(x=None))\n",
    "\n",
    "A_inv = inverse_hessian()"
   ]
  },
  {
   "cell_type": "code",
   "execution_count": 8,
   "metadata": {},
   "outputs": [
    {
     "name": "stdout",
     "output_type": "stream",
     "text": [
      "[[ 39.787 -15.215 -38.835  49.502 -19.421  -5.356  -2.284]\n",
      " [-15.215   8.676  18.894 -26.827   6.445   1.801   2.574]\n",
      " [-38.835  18.894  52.396 -71.373  17.225   4.286   7.593]\n",
      " [ 49.502 -26.827 -71.373 101.707 -21.192  -6.182 -12.513]\n",
      " [-19.421   6.445  17.225 -21.192  10.765   2.701   0.289]\n",
      " [ -5.356   1.801   4.286  -6.182   2.701   2.376  -0.422]\n",
      " [ -2.284   2.574   7.593 -12.513   0.289  -0.422   3.684]]\n"
     ]
    }
   ],
   "source": [
    "np.set_printoptions(precision=3)\n",
    "print(A_inv)"
   ]
  },
  {
   "cell_type": "code",
   "execution_count": 10,
   "metadata": {},
   "outputs": [
    {
     "name": "stdout",
     "output_type": "stream",
     "text": [
      "[[ 1.000e+00  3.553e-15 -1.155e-14  2.309e-14  3.386e-15 -1.499e-15\n",
      "  -3.553e-15]\n",
      " [-1.910e-14  1.000e+00  3.553e-15 -1.776e-14  6.106e-15  1.554e-15\n",
      "   4.441e-15]\n",
      " [-6.217e-15  0.000e+00  1.000e+00  0.000e+00  5.551e-16  9.992e-16\n",
      "   0.000e+00]\n",
      " [-1.599e-14  1.332e-14 -1.776e-15  1.000e+00  4.885e-15 -3.331e-16\n",
      "   0.000e+00]\n",
      " [-3.064e-14  1.288e-14  1.155e-14 -4.086e-14  1.000e+00  1.277e-15\n",
      "   1.332e-15]\n",
      " [ 5.329e-15  7.994e-15 -3.553e-15  1.776e-14 -7.772e-16  1.000e+00\n",
      "  -1.776e-15]\n",
      " [ 2.043e-14  2.665e-15 -1.776e-14 -1.066e-14  7.883e-15 -1.332e-15\n",
      "   1.000e+00]]\n"
     ]
    }
   ],
   "source": [
    "I = np.dot(A, A_inv)\n",
    "np.set_printoptions(precision=3)\n",
    "print(I)"
   ]
  },
  {
   "cell_type": "markdown",
   "metadata": {},
   "source": [
    "### Update p_k function and alpha_k"
   ]
  },
  {
   "cell_type": "code",
   "execution_count": 11,
   "metadata": {},
   "outputs": [],
   "source": [
    "def get_inverse_hessian():\n",
    "    return A_inv\n",
    "\n",
    "def newtown_update_pk(xk):\n",
    "    B_inv = get_inverse_hessian()\n",
    "    return -np.dot(B_inv, gradient(xk))"
   ]
  },
  {
   "cell_type": "code",
   "execution_count": 13,
   "metadata": {},
   "outputs": [],
   "source": [
    "def newtown_update_ak(xk, a0, pk, c1=1e-4, b_max=20, y=0.98):\n",
    "    ak = a0\n",
    "    for b in range(b_max):\n",
    "        if check_armijo_rule(xk, ak, pk, c1=c1):\n",
    "            IND = 1\n",
    "            return ak, 1\n",
    "        else:\n",
    "            ak *= y\n",
    "    IND = -1\n",
    "    return ak, IND"
   ]
  },
  {
   "cell_type": "code",
   "execution_count": 14,
   "metadata": {},
   "outputs": [],
   "source": [
    "def print_perf(f, g, h, flag):\n",
    "    \"\"\"\n",
    "        Optimization terminated successfully.\n",
    "         Current function value: 0.000000\n",
    "         Iterations: 339\n",
    "         Function evaluations: 571\n",
    "    \"\"\"\n",
    "    if flag == 1:\n",
    "        print(\"Optimization terminated successfully\")\n",
    "    elif flag == -1:\n",
    "        print(\"Fail to compute alpha_k\")\n",
    "    else:\n",
    "        print(\"No convergence\")\n",
    "    print(f\"Function evaluations : {f}\")\n",
    "    print(f\"Gradient evaluations : {g}\")\n",
    "    print(f\"Hessian  evaluations : {h}\")\n",
    "\n",
    "def line_search_back_tracking(x0, a0, p0, c1=1e-4, b_max=20, y=0.98, c2=0.9, k_max=50, eps=1e-3):\n",
    "    pk = p0\n",
    "    ak = a0\n",
    "    xk = x0\n",
    "    count_grad = 0\n",
    "    count_func = 0\n",
    "    count_hessian = 0\n",
    "    for i in range(k_max):\n",
    "        count_grad += 3\n",
    "        count_func += 2\n",
    "        count_hessian += 1\n",
    "        pk = newtown_update_pk(xk)\n",
    "        ak, IND = newtown_update_ak(xk, ak, pk, c1=c1, b_max=b_max, y=y)\n",
    "        if IND == 1:\n",
    "            xk += ak * pk\n",
    "        else:\n",
    "            FLAG = -1 # Failure\n",
    "            print_perf(count_func, count_grad-1, count_hessian, FLAG)\n",
    "            return xk\n",
    "        if np.linalg.norm(gradient(xk)) < eps:\n",
    "            FLAG = 1 # Success\n",
    "            print_perf(count_func, count_grad, count_hessian, FLAG)\n",
    "            return xk\n",
    "    FLAG = -2\n",
    "    print_perf(count_func, count_grad, count_hessian, FLAG)\n",
    "    return xk"
   ]
  },
  {
   "cell_type": "markdown",
   "metadata": {},
   "source": [
    "### Initialise hyperparameters"
   ]
  },
  {
   "cell_type": "code",
   "execution_count": 15,
   "metadata": {},
   "outputs": [],
   "source": [
    "p0 = np.random.rand(matrixSize, 1)\n",
    "a0 = 0.9\n",
    "x0 = np.random.rand(matrixSize, 1)"
   ]
  },
  {
   "cell_type": "code",
   "execution_count": 16,
   "metadata": {},
   "outputs": [
    {
     "name": "stdout",
     "output_type": "stream",
     "text": [
      "Optimization terminated successfully\n",
      "Function evaluations : 10\n",
      "Gradient evaluations : 15\n",
      "Hessian  evaluations : 5\n"
     ]
    }
   ],
   "source": [
    "xk = line_search_back_tracking(x0, a0, p0)"
   ]
  },
  {
   "cell_type": "markdown",
   "metadata": {},
   "source": [
    "Print Gradient Value Error"
   ]
  },
  {
   "cell_type": "code",
   "execution_count": 17,
   "metadata": {},
   "outputs": [
    {
     "data": {
      "text/plain": [
       "0.0001325846413670121"
      ]
     },
     "execution_count": 17,
     "metadata": {},
     "output_type": "execute_result"
    }
   ],
   "source": [
    "np.linalg.norm(np.dot(A, xk) - b)"
   ]
  },
  {
   "cell_type": "markdown",
   "metadata": {},
   "source": [
    "Print function value"
   ]
  },
  {
   "cell_type": "code",
   "execution_count": 20,
   "metadata": {},
   "outputs": [
    {
     "data": {
      "text/plain": [
       "array(-15.844)"
      ]
     },
     "execution_count": 20,
     "metadata": {},
     "output_type": "execute_result"
    }
   ],
   "source": [
    "np.squeeze(funct_quad(xk))"
   ]
  },
  {
   "cell_type": "code",
   "execution_count": 21,
   "metadata": {},
   "outputs": [
    {
     "name": "stdout",
     "output_type": "stream",
     "text": [
      "[[ 33.725]\n",
      " [-14.552]\n",
      " [-38.784]\n",
      " [ 50.519]\n",
      " [-15.784]\n",
      " [ -3.523]\n",
      " [ -3.543]]\n"
     ]
    }
   ],
   "source": [
    "print(xk)"
   ]
  }
 ],
 "metadata": {
  "kernelspec": {
   "display_name": "Python 3",
   "language": "python",
   "name": "python3"
  },
  "language_info": {
   "codemirror_mode": {
    "name": "ipython",
    "version": 3
   },
   "file_extension": ".py",
   "mimetype": "text/x-python",
   "name": "python",
   "nbconvert_exporter": "python",
   "pygments_lexer": "ipython3",
   "version": "3.7.0"
  }
 },
 "nbformat": 4,
 "nbformat_minor": 2
}
